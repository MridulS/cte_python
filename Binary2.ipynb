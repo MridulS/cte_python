{
 "metadata": {
  "name": ""
 },
 "nbformat": 3,
 "nbformat_minor": 0,
 "worksheets": [
  {
   "cells": [
    {
     "cell_type": "markdown",
     "metadata": {},
     "source": [
      "Hexadecimal\n",
      "---\n",
      "\n",
      "The Hexadecimal number system uses 16 symbols to represent numbers. Here's how numbers 0-15 are represented in Hexadecimal\n",
      "\n",
      "```\n",
      "0  | 0000 | 0\n",
      "1  | 0001 | 1\n",
      "2  | 0010 | 2\n",
      "3  | 0011 | 3\n",
      "4  | 0100 | 4\n",
      "5  | 0101 | 5\n",
      "6  | 0110 | 6\n",
      "7  | 0111 | 7\n",
      "8  | 1000 | 8\n",
      "9  | 1001 | 9\n",
      "10 | 1010 | A\n",
      "11 | 1011 | B\n",
      "12 | 1100 | C\n",
      "13 | 1101 | D\n",
      "14 | 1110 | E\n",
      "15 | 1111 | F\n",
      "```\n",
      "\n",
      "Following the same conversion logic with a few modifications, a decimal number like say 17 would be 11 in hexadecimal `(1 * 16^1 + 1 * 16^0)`.\n",
      "\n",
      "How'd you convert from binary to hexadecimal? Just group the numbers in pairs of 4 from right. Here's an example\n",
      "\n",
      "```\n",
      "0010 1101 1001 1111\n",
      " 2    D     9    F\n",
      "```\n",
      "\n",
      "In Python, hexadecimal numbers should be preceeded with 0x. Here's an example\n"
     ]
    },
    {
     "cell_type": "code",
     "collapsed": false,
     "input": [
      "my_hex_number = 0x1F\n",
      "print(my_hex_number)"
     ],
     "language": "python",
     "metadata": {},
     "outputs": [
      {
       "output_type": "stream",
       "stream": "stdout",
       "text": [
        "31\n"
       ]
      }
     ],
     "prompt_number": 1
    },
    {
     "cell_type": "markdown",
     "metadata": {},
     "source": [
      "At this point I'd strongly urge you to go through Joel Spolsky's article on Unicode (if you haven't already) which can be found [here](http://www.joelonsoftware.com/articles/Unicode.html). The above information about binary and hexadecimal representation should help you understand it better.\n",
      "\n",
      "Negative Numbers\n",
      "---\n",
      "\n",
      "So far we've covered how to represent positive integers in binary and how to add them. What about the other side of the number line and subtraction? To think of it, A - B is essentially A + (-B). We now introduce notations to represent signed integers in binary One's and Two's Complement\n",
      "\n",
      "### One's and Two's Complement\n",
      "\n",
      "For this example, let's assume that we are dealing with 4 bit values. Under unsigned representation (basically whatever we've covered so far), 4 bits allow us to express values from 0-15. However, when representing signed numbers, the leftmost bit is 0 if the number is positive and 1 if the number is negative.\n",
      "\n",
      "Before we introduce Two's Complement, we introduce One's Complement which is essentially inverting all the bits. The table below lists the one's complement possible for 4 bit values where the + column represents positive representation and - column represents negative representation.\n",
      "\n",
      "```\n",
      "# |   +  |   -\n",
      "0 | 0000 | 1111\n",
      "1 | 0001 | 1110\n",
      "2 | 0010 | 1101\n",
      "3 | 0011 | 1100\n",
      "4 | 0100 | 1011\n",
      "5 | 0101 | 1010\n",
      "6 | 0110 | 1001\n",
      "7 | 0111 | 1000\n",
      "```\n",
      "\n",
      "Given a *signed* number, how'd you figure if it's positive or negative? Again, look at the MSB. It's positive if 0 and negative otherwise.\n",
      "\n",
      "The first row in the table above lists two representations for the same value of 0 and this makes room for an efficient representation. Enter, the two's complement - *which is just adding 1 to the one's complement representation*. The Table below lists the two's complement possible for 4 bit values where the + column represents positive representation and - column represents negative representation.\n",
      "\n",
      "```\n",
      "# |   +  |   -\n",
      "0 | 0000 | \n",
      "1 | 0001 | 1111\n",
      "2 | 0010 | 1110\n",
      "3 | 0011 | 1101\n",
      "4 | 0100 | 1100\n",
      "5 | 0101 | 1011\n",
      "6 | 0110 | 1010\n",
      "7 | 0111 | 1001\n",
      "8 |      | 1000\n",
      "```\n",
      "\n",
      "By offsetting by 1, two's complement allows us to represent -8 as well unlike one's complement.\n",
      "\n",
      "Here's a faster way to convert a binary representation to it's two's complement - start with the LSB and copy the values until you find a 1 (including it). For the remaining values until MSB, invert the bits. Therefore two's complement of 01010 (decimal 10) is 10110 (-10)\n",
      "\n",
      "_Exercise:_\n",
      "\n",
      "* _Given n bits, what range of signed numbers can be represented using one's complement?_\n",
      "* _Given n bits, what range of signed numbers can be represented using two's complement?_\n",
      "* _Represent -32 using two's complement representation_.\n",
      "* _Try performing 23 - 16 using A - B = A + (-B) and representing -16 in two's complement._\n"
     ]
    }
   ],
   "metadata": {}
  }
 ]
}