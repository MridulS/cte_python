{
 "cells": [
  {
   "cell_type": "markdown",
   "metadata": {
    "slideshow": {
     "slide_type": "slide"
    }
   },
   "source": [
    "Binary Primer\n",
    "=============\n",
    "\n",
    "This document explains how numbers are represented in the computer memory. Some of you might have already studied this as a part of Computer Programming in 1-2. In that case, skim through the document to revise things. Let's begin by introducing the Binary Number System\n",
    "\n",
    "Binary Number System\n",
    "---\n",
    "\n",
    "We usually use the decimal representation having digits 0-9 to represent numbers. However, digital circuits use only two symbols (0 and 1) to represent numbers. Each digit is called a bit. 8 bits make up a byte.\n",
    "\n",
    "Let's have a look initially at how decimal numbers are represented. For example, let's take the number 12934. This can be broken up into `10000 + 2000 + 900 + 30 + 4` or `(1 * 10^4 + 2 * 10^3 + 9 * 10^2 + 3 * 10^1 + 4 * 10^0)`.\n",
    "\n",
    "Binary numbering follows a similar method with a few differences. First, digits are either 0 or 1 (instead of 0-9) and powers of 2 are considered (instead of 10). So, for instance, a binary number 101 represents `1 * 2^2 + 0 * 2^1 + 1 * 2^0 = 5 (in decimal)`.\n",
    "\n",
    "*Note: The first 1 from the left is called the most significant bit (MSB). The rightmost bit is called the least significant bit (LSB). 0s prior to the MSB can be neglected.*\n",
    "\n",
    "_Excercise:_\n",
    "*  _Write binary representations of decimal numbers 0 - 15._\n",
    "*  _What's the maximum integer that can be represented with n bits?_\n",
    "\n",
    "Decimal to Binary Conversion\n",
    "---\n",
    "\n",
    "We can use long division by two and reading the sequence of remainders from down to up to convert a decimal number to binary. Here's an example with the number 234:\n",
    "\n",
    "```\n",
    "2|234|  ^ \n",
    "2|117|0 |\n",
    "2| 58|1 |\n",
    "2| 29|0 |\n",
    "2| 14|1 |\n",
    "2|  7|0 |\n",
    "2|  3|1 |\n",
    "2|  1|1 |\n",
    "     |1 |\n",
    "```\n",
    "\n",
    "Therefore, 234 is expressed in binary as 11101010\n",
    "\n",
    "*Exercise: Convert 729 to binary.*\n",
    "\n",
    "Binary Addition\n",
    "---\n",
    "\n",
    "Binary addition has the following rules:\n",
    "\n",
    "* 0 + 0 = 0\n",
    "* 0 + 1 = 1\n",
    "* 1 + 0 = 1\n",
    "* 1 + 1 = 0 carry 1\n",
    "* 1 + 1 + 1 = 1 carry 1\n",
    "\n",
    "Here's an example of addition of two numbers represented in binary.\n",
    "\n",
    "```\n",
    "  1 1 1 1 1   (carried digits)\n",
    "    0 1 1 1 1\n",
    "+   1 0 1 0 1\n",
    "-------------\n",
    "= 1 0 0 1 0 0 = 36\n",
    "```\n",
    "***\n",
    "_To be continued..._\n",
    "\n"
   ]
  }
 ],
 "metadata": {
  "kernelspec": {
   "display_name": "Python 3",
   "language": "python",
   "name": "python3"
  },
  "language_info": {
   "codemirror_mode": {
    "name": "ipython",
    "version": 3
   },
   "file_extension": ".py",
   "mimetype": "text/x-python",
   "name": "python",
   "nbconvert_exporter": "python",
   "pygments_lexer": "ipython3",
   "version": "3.4.3"
  }
 },
 "nbformat": 4,
 "nbformat_minor": 0
}
